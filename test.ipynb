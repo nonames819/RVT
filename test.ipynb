{
 "cells": [
  {
   "cell_type": "markdown",
   "metadata": {},
   "source": [
    "# eval\n",
    "\n",
    "python eval.py --model-folder runs/rvt2  --eval-datafolder ./data/test --tasks all --eval-episodes 25 --log-name test --device 0 --headless --model-name model_99.pth\n",
    "\n",
    "\n",
    "python eval.py --model-folder /home/xiesicheng/chd/RVT/rvt/runs/rvt2/20250228_114648_multi --eval-datafolder ./data/test --tasks all --eval-episodes 25 --log-name log --device 0 --headless --model-name model_99.pth\n",
    "\n",
    "\n",
    "# train\n",
    "\n",
    "python train.py --exp_cfg_path configs/rvt2.yaml --mvt_cfg_path mvt/configs/rvt2.yaml --device 0,1,2,3,4,5,6,7 \n"
   ]
  },
  {
   "cell_type": "code",
   "execution_count": 3,
   "metadata": {},
   "outputs": [
    {
     "name": "stdout",
     "output_type": "stream",
     "text": [
      "demo\n",
      "keypoint_idx\n",
      "episode_idx\n",
      "keypoint_frame\n",
      "next_keypoint_frame\n",
      "sample_frame\n",
      "trans_action_indicies\n",
      "rot_grip_action_indicies\n",
      "gripper_pose\n",
      "lang_goal\n",
      "left_shoulder_rgb\n",
      "left_shoulder_depth\n",
      "left_shoulder_point_cloud\n",
      "right_shoulder_rgb\n",
      "right_shoulder_depth\n",
      "right_shoulder_point_cloud\n",
      "wrist_rgb\n",
      "wrist_depth\n",
      "wrist_point_cloud\n",
      "front_rgb\n",
      "front_depth\n",
      "front_point_cloud\n",
      "ignore_collisions\n",
      "low_dim_state\n",
      "front_camera_extrinsics\n",
      "front_camera_intrinsics\n",
      "left_shoulder_camera_extrinsics\n",
      "left_shoulder_camera_intrinsics\n",
      "right_shoulder_camera_extrinsics\n",
      "right_shoulder_camera_intrinsics\n",
      "wrist_camera_extrinsics\n",
      "wrist_camera_intrinsics\n",
      "lang_goal_embs\n",
      "action\n",
      "reward\n",
      "terminal\n",
      "timeout\n"
     ]
    }
   ],
   "source": [
    "import numpy as np\n",
    "\n",
    "# 加载 .replay 文件（假设是 NumPy 格式）\n",
    "replay_buffer = np.load('/home/xiesicheng/chd/RVT/rvt/replay/replay_train_down/close_jar/0.replay', allow_pickle=True)\n",
    "for key in replay_buffer.keys():\n",
    "    print(key)\n",
    "# 打印文件内容\n",
    "# print(replay_buffer)\n"
   ]
  },
  {
   "cell_type": "code",
   "execution_count": 1,
   "metadata": {},
   "outputs": [
    {
     "name": "stderr",
     "output_type": "stream",
     "text": [
      "/data/robot/envs/rvt2/lib/python3.8/site-packages/tqdm/auto.py:21: TqdmWarning: IProgress not found. Please update jupyter and ipywidgets. See https://ipywidgets.readthedocs.io/en/stable/user_install.html\n",
      "  from .autonotebook import tqdm as notebook_tqdm\n"
     ]
    },
    {
     "data": {
      "text/plain": [
       "tensor([[[-1.]],\n",
       "\n",
       "        [[ 0.]],\n",
       "\n",
       "        [[ 1.]]])"
      ]
     },
     "execution_count": 1,
     "metadata": {},
     "output_type": "execute_result"
    }
   ],
   "source": [
    "import torch \n",
    "a = torch.linspace(-1, 1, 3).unsqueeze(-1).unsqueeze(-1)\n",
    "a"
   ]
  },
  {
   "cell_type": "code",
   "execution_count": 2,
   "metadata": {},
   "outputs": [
    {
     "name": "stdout",
     "output_type": "stream",
     "text": [
      "空闲端口：40279\n"
     ]
    }
   ],
   "source": [
    "import socket\n",
    "\n",
    "def get_free_port():\n",
    "    s = socket.socket(socket.AF_INET, socket.SOCK_STREAM)\n",
    "    s.bind(('127.0.0.1', 0))\n",
    "    _, port = s.getsockname()\n",
    "    s.close()\n",
    "    return port\n",
    "\n",
    "free_port = get_free_port()\n",
    "print(f\"空闲端口：{free_port}\")"
   ]
  }
 ],
 "metadata": {
  "kernelspec": {
   "display_name": "rvt2",
   "language": "python",
   "name": "python3"
  },
  "language_info": {
   "codemirror_mode": {
    "name": "ipython",
    "version": 3
   },
   "file_extension": ".py",
   "mimetype": "text/x-python",
   "name": "python",
   "nbconvert_exporter": "python",
   "pygments_lexer": "ipython3",
   "version": "3.8.20"
  }
 },
 "nbformat": 4,
 "nbformat_minor": 2
}
